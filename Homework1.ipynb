{
  "nbformat": 4,
  "nbformat_minor": 0,
  "metadata": {
    "colab": {
      "provenance": [],
      "authorship_tag": "ABX9TyOvwT4BvZjhd9JCIaifYxvZ",
      "include_colab_link": true
    },
    "kernelspec": {
      "name": "python3",
      "display_name": "Python 3"
    },
    "language_info": {
      "name": "python"
    }
  },
  "cells": [
    {
      "cell_type": "markdown",
      "metadata": {
        "id": "view-in-github",
        "colab_type": "text"
      },
      "source": [
        "<a href=\"https://colab.research.google.com/github/dheerajRavipati/Operating-Systems/blob/main/Homework1.ipynb\" target=\"_parent\"><img src=\"https://colab.research.google.com/assets/colab-badge.svg\" alt=\"Open In Colab\"/></a>"
      ]
    },
    {
      "cell_type": "markdown",
      "source": [
        "##**Question 1**"
      ],
      "metadata": {
        "id": "lAd_rD4L3aga"
      }
    },
    {
      "cell_type": "markdown",
      "source": [
        "####<u>High level Algorithm</u>\n",
        "1. Accept three strings (str1, str2, and str3) from the user.\n",
        "2. Concatenate str1 and str2 in reverse order and assign it to another variable str4.\n",
        "3. Check if str4 and str3 are equal. If they are, then print \"they are equal\", otherwise, print \"they are not equal\".\n",
        "4. Also check if there are any spaces given by user in str3 and remove them to check the equality\n",
        "\n",
        "---\n",
        "\n",
        "####<u>Instructions for running the code</u>\n",
        "1. Run the cell containing the code.\n",
        "2. A prompt will appear to enter 3 strings. Enter string and hit enter each time you see the prompt.\n",
        "3. The program will concatenate 1st and 2nd strings in reverese order and check with the third string and prints output\n",
        "\n",
        "\n",
        "---\n",
        "\n",
        "\n",
        "####<u>Expected output:</u>\n",
        "\n",
        "\n",
        "1.\n",
        "Enter first string: you2!<br>\n",
        "Enter second string: Thank<br>\n",
        "Enter third string: Thankyou!<br>\n",
        "They are not equal\n",
        "\n",
        "2. Enter first string: world <br>\n",
        "Enter second string: hello<br>\n",
        "Enter third string: hello world<br>\n",
        "They are equal\n",
        "---\n",
        "\n"
      ],
      "metadata": {
        "id": "evmodUtUi7Kh"
      }
    },
    {
      "cell_type": "code",
      "execution_count": null,
      "metadata": {
        "id": "36ESf48z1Dru"
      },
      "outputs": [],
      "source": [
        "# Accept inputs from the user\n",
        "str1 = input(\"Enter first string: \")\n",
        "str2 = input(\"Enter second string: \")\n",
        "str3 = input(\"Enter third string: \")\n",
        "\n",
        "#Concatenate the strings 1 and 2 in reverse order\n",
        "str4 = str2 + str1\n",
        "\n",
        "#Compare the concatenated string and the third input from user\n",
        "#and print the output.\n",
        "#Note: If there are spaces between words in str3, they will be omitted\n",
        "if(str4 == str3.replace(\" \",\"\")):\n",
        "  print(\"They are equal\")\n",
        "else:\n",
        "  print(\"They are not equal\")"
      ]
    },
    {
      "cell_type": "markdown",
      "source": [
        "##**Question 2**"
      ],
      "metadata": {
        "id": "Cpk-ctuK3m5Q"
      }
    },
    {
      "cell_type": "markdown",
      "source": [
        "####<u>High level algorithm</u>\n",
        "1. Prompt user to enter either 3 or 4 and store in num_count and verify if the user is giving only 3 and 4 and not any other integers.\n",
        "2. Prompt user to enter 1st, 2nd, and 3rd number and store them into num1, num2, and num3. Assign the maximum value as num1 to a variable max.\n",
        "3. If user entered 4 initially, then prompt to input 4th number and store the value into num4.\n",
        "4. Calculate the sum by adding num1, num2, and num3 and find average using formula *average(1,2,...n) = (1+2+..+n)/n*\n",
        "5. Using if statements, find the maximum of given numbers by comparing the max value assigned in step 2 to other numbers given by the user.\n",
        "6. Print the average with 2 decimal places and maximum of given numbers.\n",
        "\n",
        "---\n",
        "\n",
        "####<u>Instructions for running the code</u>\n",
        "1. Run the cell containing the code.\n",
        "2. You will prompted to enter either 3 or 4.\n",
        "3. Based on the input in step2, you will be prompted to enter 3 or 4 numbers.\n",
        "4. The program will then calculate average and maximum of given numbers and print the output\n",
        "\n",
        "---\n",
        "\n",
        "####<u>Expected output</u>\n",
        "1. Enter set of 3 or 4 integers: 4<br>\n",
        "Enter first number: 7<br>\n",
        "Enter second number: 10<br>\n",
        "Enter third number: 1<br>\n",
        "Enter fourth number: 11<br>\n",
        "The average of 7, 10, 1, and 11 is: 7.25<br>\n",
        "The maximum of the four numbers is: 11\n",
        "\n",
        "2. Enter set of 3 or 4 integers: 3<br>\n",
        "Enter first number: 4<br>\n",
        "Enter second number: 6<br>\n",
        "Enter third number: 5<br>\n",
        "The average of 4, 6, and 5 is: 5.00<br>\n",
        "The maximum of the three numbers is: 6"
      ],
      "metadata": {
        "id": "BgMzx2iBoGms"
      }
    },
    {
      "cell_type": "code",
      "source": [
        "try:\n",
        "  #prompt user to enter numbers 3 or 4\n",
        "  num_count = int(input(\"Enter set of 3 or 4 integers: \"))\n",
        "\n",
        "  #for any inputs other than 3 and 4\n",
        "  if num_count not in (3,4):\n",
        "      print(\"Please enter either 3 or 4 integers.\")\n",
        "  else:\n",
        "      #initialize sum, maximum, and input numbers\n",
        "      sum = 0\n",
        "      num1 = int(input(\"Enter first number: \"))\n",
        "      num2 = int(input(\"Enter second number: \"))\n",
        "      num3 = int(input(\"Enter third number: \"))\n",
        "      max = num1\n",
        "\n",
        "      #if count entered by user is 4\n",
        "      if num_count == 4:\n",
        "          num4 = int(input(\"Enter fourth number: \"))\n",
        "          #calculate sum\n",
        "          sum = num1 + num2 + num3 + num4\n",
        "          #calculate average\n",
        "          average = sum / 4\n",
        "          #find maximum\n",
        "          if num2 > max:\n",
        "              max = num2\n",
        "          if num3 > max:\n",
        "              max = num3\n",
        "          if num4 > max:\n",
        "              max = num4\n",
        "\n",
        "      #perform same operations as above for 3 inputs\n",
        "      else:\n",
        "          sum = num1 + num2 + num3\n",
        "\n",
        "          if num2 > max:\n",
        "              max = num2\n",
        "          if num3 > max:\n",
        "              max = num3\n",
        "\n",
        "          average = sum / 3\n",
        "\n",
        "      #print the output\n",
        "      if num_count == 4:\n",
        "          print(f\"The average of {num1}, {num2}, {num3}, and {num4} is: {average:.2f}\")\n",
        "          print(f\"The maximum of the four numbers is: {max}\")\n",
        "      else:\n",
        "          print(f\"The average of {num1}, {num2}, and {num3} is: {average:.2f}\")\n",
        "          print(f\"The maximum of the three numbers is: {max}\")\n",
        "\n",
        "except:\n",
        "  print(\"Error: Please provide a valid input\")"
      ],
      "metadata": {
        "id": "1eVokbAP3okv"
      },
      "execution_count": null,
      "outputs": []
    },
    {
      "cell_type": "markdown",
      "source": [
        "##**Question 3**"
      ],
      "metadata": {
        "id": "YF4StDUceQZL"
      }
    },
    {
      "cell_type": "markdown",
      "source": [
        "####<u>High level algorithm:</u>\n",
        "1. Prompt the user to enter a number and check if the  check if user is giving input properly(which should be an integer value). If not print error message using try-except. Store the value provided by user into a variable named num.\n",
        "2. Take a variable is_prime to check if the number is prime or not and assign True as default, which indicates the number is prime.\n",
        "3. If num is either 0 or 1, then print \"It is neither prime nor composite\"\n",
        "4. If num is greater than 0, iterate through 2 and num-1 and in each iteration, check if num is divisible by the current number(i).\n",
        "5. As we know prime numbers can't be divided by any other numbers, if num is divisible by i, we will assign is_prime value as False and exit from the loop without further checking.\n",
        "6. Based on the is_prime value, we will print whether the given number is a prime number or not.\n",
        "7. If the given number is not greater than 0 or is neither 0 nor 1, then we will print an error message to provide a proper input.\n",
        "\n",
        "---\n",
        "\n",
        "####<u>Instruction for running the code</u>\n",
        "1. Run the respective cell in the notebook.\n",
        "2. You will be prompted to enter a positive integer.\n",
        "3. After entering an input, the program will compute and provide an output whether the given number is a prime number or not.\n",
        "\n",
        "---\n",
        "\n",
        "####<u>Expected output</u>\n",
        "1. Enter positive number: -5<br>\n",
        "Error: You did not enter a positive integer\n",
        "\n",
        "2. Enter positive number: test<br>\n",
        "Error: You did not enter a positive integer\n",
        "\n",
        "3. Enter positive number: 61<br>\n",
        "It is a prime\n",
        "\n",
        "4. Enter positive number: 63<br>\n",
        "It is a composite"
      ],
      "metadata": {
        "id": "DlwZpm8EFEEY"
      }
    },
    {
      "cell_type": "code",
      "source": [
        "#if input is not a positive integer, it will go to except\n",
        "try:\n",
        "  #request input from user\n",
        "  num = int(input('Enter positive number: '))\n",
        "\n",
        "  #variable to check if number is prime or not\n",
        "  is_prime = True\n",
        "  #If input is either 0 or 1\n",
        "  if num == 0 or num == 1:\n",
        "    print(\"It is neither prime nor composite\")\n",
        "  #if input is a positive integer\n",
        "  elif num > 0:\n",
        "    #looping between 2 and the (input - 1)\n",
        "    for i in range(2, num):\n",
        "      #if the input is divided by any number between 2\n",
        "      #and input, then is_prime is set to false\n",
        "      if num % i == 0:\n",
        "        is_prime = False\n",
        "        break\n",
        "    #if is_prime is true, input is prime else false\n",
        "    if is_prime:\n",
        "      print(\"It is a prime\")\n",
        "    else:\n",
        "      print(\"It is a composite\")\n",
        "  #if input is a negative number\n",
        "  else:\n",
        "    print(\"Error: You did not enter a positive integer\")\n",
        "#if input is not an integer\n",
        "except:\n",
        "  print(\"Error: You did not enter a positive integer\")\n"
      ],
      "metadata": {
        "id": "D148chTqeS2p"
      },
      "execution_count": null,
      "outputs": []
    },
    {
      "cell_type": "markdown",
      "source": [
        "##**Question 4**"
      ],
      "metadata": {
        "id": "2bmkzlmTnQRm"
      }
    },
    {
      "cell_type": "markdown",
      "source": [
        "####<u>High level algorithm</u>\n",
        "1. define a function named SimpleInterest with three parameters principle_amount, interestRate, years\n",
        "2. principle_amount and interestRate should be a float value whereas years should be an integer value. So check for the input format and if they are not as expected, print error.\n",
        "3. Also check if any of the parameters are less than 0 and print an error.\n",
        "4. Calculate simple interest using the formula **simple interest = (principle amount * interest rate * years)/100** and assign it to the variable simple_interest. Return this simple_interest.\n",
        "5. In a different cell, write code to prompt user to enter principle amount, interest rate, and number of years, and assign them to the variables principle_amount, interestRate, and years respectively.\n",
        "6. Call the SimpleInterest function using the parameters given.\n",
        "7. If there is a value returned for simple_interest, then print the result using f-string.\n",
        "---\n",
        "\n",
        "####<u>Instructions for running the code</u>\n",
        "1. Run the cell that contains SimpleInterest function and then run the second cell that contains code to prompt user for inputs.\n",
        "2. You will then be prompted to enter principle amount, interest rate and number of years.\n",
        "3. Based on the input provided, it will either throw an error or calculate simple interest and will print the simple interest for the details provided.\n",
        "\n",
        "---\n",
        "\n",
        "####<u>Expected output</u>\n",
        "1. Enter principle amount: 300000<br>\n",
        "Enter interest rate: 3<br>\n",
        "Enter number of years: 10<br>\n",
        "The simple interest amount is: 90000.0\n",
        "\n",
        "2. Enter principle amount: test<br>\n",
        "Enter interest rate: 12<br>\n",
        "Enter number of years: 30<br>\n",
        "Please check the input type provided\n",
        "\n",
        "3. Enter principle amount: -100000<br>\n",
        "Enter interest rate: 12<br>\n",
        "Enter number of years: 15<br>\n",
        "Please provide non-negative numbers"
      ],
      "metadata": {
        "id": "PJvHciRJIOQ0"
      }
    },
    {
      "cell_type": "code",
      "source": [
        "#SimpleInterest function taking 3 arguments\n",
        "def SimpleInterest(principle_amount, interestRate, years):\n",
        "    try:\n",
        "        #check for user input formats\n",
        "        principle_amount = float(principle_amount)\n",
        "        interestRate = float(interestRate)\n",
        "        years = int(years)\n",
        "\n",
        "        #if non-negative numbers are given\n",
        "        if principle_amount < 0 or interestRate < 0 or years < 0:\n",
        "            print(\"Please provide non-negative numbers\")\n",
        "        else:\n",
        "          #calculate simple interestst and return it\n",
        "          simple_interest = (principle_amount * interestRate * years) / 100\n",
        "          return simple_interest\n",
        "    #if provided input is not in the format as needed\n",
        "    except:\n",
        "        print(\"Please check the input type provided\")\n"
      ],
      "metadata": {
        "id": "m7L8HKS-eacB"
      },
      "execution_count": null,
      "outputs": []
    },
    {
      "cell_type": "code",
      "source": [
        "#take inputs from user\n",
        "principle_amount = input(\"Enter principle amount: \")\n",
        "interestRate = input(\"Enter interest rate: \")\n",
        "years = input(\"Enter number of years: \")\n",
        "\n",
        "#call the SimpleInterest function with the arguments taken from user\n",
        "result = SimpleInterest(principle_amount, interestRate, years)\n",
        "#if no error, print simple interest amount\n",
        "if (result):\n",
        "    print(f\"The simple interest amount is: {result}\")"
      ],
      "metadata": {
        "id": "dutIOrfpoIVD"
      },
      "execution_count": null,
      "outputs": []
    },
    {
      "cell_type": "markdown",
      "source": [
        "##**Question 5**"
      ],
      "metadata": {
        "id": "GcZ9GSg_tFIL"
      }
    },
    {
      "cell_type": "markdown",
      "source": [
        "####<u>High level algorithm</u>\n",
        "\n",
        "1. Initialize a variable 'total' to store the total amount of the cart and set it to 0.\n",
        "2. Start an infinite loop to allow the user to enter product names and prices until they decide to quit.\n",
        "3. Within the loop, prompt the user to enter the name of the product or hit Enter to finish entering products.\n",
        "4. Check if the user entered an empty string (hit Enter). If they did, exit the loop.\n",
        "5. If the user entered a product name, prompt the user to enter the price of the product and assign it to a variable 'price'. Check if the user is entering a float value and if not, print error.\n",
        "6. Check if price is less than or equal to 0 and print error \"Product price should be more than $0.\" Skip the current iteration and allow user to provide a valid price.\n",
        "7. If price is valid, add the price to 'total' and print the name of the item and its price formatted with two decimal places and commas.\n",
        "8. Finally, when the user hits enter, print the total amount to be paid. Format this amount with two decimal places and commas.\n",
        "\n",
        "---\n",
        "\n",
        "####<u>Instructions for running the code</u>\n",
        "1. Run the cell containing the code.\n",
        "2. You will be prompted to either enter product name or hit enter to finish.\n",
        "3. If a product name is given, you will be prompted to enter product price.\n",
        "4. Code will do the calculations and print price and name of the product.\n",
        "5. Program will stop iterating once you hit enter.\n",
        "\n",
        "---\n",
        "\n",
        "####<u>Expected output</u>\n",
        "1. Enter product name or hit enter when finished: car<br>\n",
        "Enter product price: test<br>\n",
        "Please enter a valid amount.<br>\n",
        "Enter product name or hit enter when finished:\n",
        "\n",
        "2. Enter product name or hit enter when finished: Car<br>\n",
        "Enter product price: -12302<br>\n",
        "Product price should be more than \\$0.<br>\n",
        "Enter product name or hit enter when finished: Car<br>\n",
        "Enter product price: 35000.343<br>\n",
        "Price for Car is \\$35,000.34<br>\n",
        "Enter product name or hit enter when finished: House<br>\n",
        "Enter product price: 11232342.3493<br>\n",
        "Price for House is \\$11,232,342.35<br>\n",
        "Enter product name or hit enter when finished: <br>\n",
        "Total amount to be paid is \\$11,267,342.69"
      ],
      "metadata": {
        "id": "9lRDA8oyMJLX"
      }
    },
    {
      "cell_type": "code",
      "source": [
        "# initialize total amount of the cart\n",
        "total = 0\n",
        "#Iterate through the loop until the loop until user wants to quit\n",
        "while True:\n",
        "  name = input(\"Enter product name or hit enter when finished: \")\n",
        "\n",
        "  #If user is done hits enter (to finish entering products)\n",
        "  if name == '':\n",
        "    break\n",
        "\n",
        "  #Check if the user is giving a valid product price\n",
        "  try:\n",
        "    price = float(input(\"Enter product price: \"))\n",
        "    if price <= 0:\n",
        "      print(\"Product price should be more than $0.\")\n",
        "      continue #skip this and continue with another product price\n",
        "\n",
        "    #total amount is incremented with product price given by the user\n",
        "    #and print the name of price of item\n",
        "    total += price\n",
        "    #< Not sure how to print ',' into the value. So used the below source >\n",
        "    #source: https://stackoverflow.com/questions/36626017/format-a-number-with-comma-separators-and-round-to-2-decimal-places-in-python-2\n",
        "    print(f\"Price for {name} is ${price:,.2f}\")\n",
        "  except:\n",
        "    print(\"Please enter a valid amount.\")\n",
        "\n",
        "#Print total amount in two decimal places with comma\n",
        "print(f\"Total amount to be paid is ${total:,.2f}\")"
      ],
      "metadata": {
        "id": "6LeCWt9stEXu"
      },
      "execution_count": null,
      "outputs": []
    },
    {
      "cell_type": "markdown",
      "source": [
        "##**Question 6**"
      ],
      "metadata": {
        "id": "vd_Pq_DPtkpL"
      }
    },
    {
      "cell_type": "markdown",
      "source": [
        "####<u>High level algorithm</u>\n",
        "1. In this code, we will import random module for generating the computer's choice and the pandas library for creating a data frame to store and display the game results.\n",
        "2. Initialize variable for tracking count of rounds played, and lists to store user choice, computer choice, and results in each round.\n",
        "3. Use a while loop such that the user plays at least 10 times and later until the user wants to stop playing.\n",
        "4. The user will then be prompted to enter their choice of \"rock,\" \"paper,\" or \"scissors.\" Check if the input is valid and print an error message if not.\n",
        "5. The computer's choice is determined randomly using random.\n",
        "6. The winner of the current iteration is determined based on the game's rules (rock beats scissors, scissors cut paper, paper covers rock), and the results for the current round are printed, showing the user's choice, the computer's choice, and the outcome.\n",
        "7. The round's results, including choices and the result, are added to the respective lists and the 'rounds_played' variable is incremented.\n",
        "8. After exiting the loop, data frame is created using pandas to display the game results.\n",
        "\n",
        "---\n",
        "\n",
        "####<u>Instructions for running the code</u>\n",
        "\n",
        "1. Run the cell containing the code.\n",
        "2. You will be prompted to enter a choice.\n",
        "3. The program will then do the computation and displays the result of the current round.\n",
        "4. The above process repeats for 10 valid attempts and later will ask if you still want to proceed.\n",
        "5. If you enter yes, it will proceed with another round, otherwise the code will be terminated.\n",
        "\n",
        "---\n",
        "\n",
        "####<u>Expected output</u>\n",
        "\n",
        "Enter your choice (rock, paper, scissors): rock<br>\n",
        "User chose: rock<br>\n",
        "Computer chose: paper<br>\n",
        "I, the computer, win!<br>\n",
        "\n",
        "Enter your choice (rock, paper, scissors): paper<br>\n",
        "User chose: paper<br>\n",
        "Computer chose: scissors<br>\n",
        "I, the computer, win!\n",
        "\n",
        "Enter your choice (rock, paper, scissors): scissors<br>\n",
        "User chose: scissors<br>\n",
        "Computer chose: scissors<br>\n",
        "User and computer tie!<br>\n",
        "\n",
        "Enter your choice (rock, paper, scissors): paper<br>\n",
        "User chose: paper<br>\n",
        "Computer chose: rock<br>\n",
        "You, the user, win!\n",
        "\n",
        "Enter your choice (rock, paper, scissors): scissors<br>\n",
        "User chose: scissors<br>\n",
        "Computer chose: scissors<br>\n",
        "User and computer tie!\n",
        "\n",
        "Enter your choice (rock, paper, scissors): rock<br>\n",
        "User chose: rock<br>\n",
        "Computer chose: scissors<br>\n",
        "You, the user, win!\n",
        "\n",
        "Enter your choice (rock, paper, scissors): paper<br>\n",
        "User chose: paper<br>\n",
        "Computer chose: scissors<br>\n",
        "I, the computer, win!\n",
        "\n",
        "Enter your choice (rock, paper, scissors): scissors<br>\n",
        "User chose: scissors<br>\n",
        "Computer chose: paper<br>\n",
        "You, the user, win!\n",
        "\n",
        "Enter your choice (rock, paper, scissors): rock<br>\n",
        "User chose: rock<br>\n",
        "Computer chose: paper<br>\n",
        "I, the computer, win!\n",
        "\n",
        "Enter your choice (rock, paper, scissors): paper<br>\n",
        "User chose: paper<br>\n",
        "Computer chose: scissors<br>\n",
        "I, the computer, win!\n",
        "\n",
        "Do you want to play another round? (yes/no): yes<br>\n",
        "Enter your choice (rock, paper, scissors): test<br>\n",
        "Invalid choice. Please choose from rock, paper, or scissors.<br>\n",
        "Do you want to play another round? (yes/no): yes<br>\n",
        "Enter your choice (rock, paper, scissors): rock<br>\n",
        "User chose: rock<br>\n",
        "Computer chose: paper<br>\n",
        "I, the computer, win!\n",
        "\n",
        "Do you want to play another round? (yes/no): no<br>\n",
        "\n",
        "|    | User choice   | computer choice   | results                |\n",
        "|---:|:--------------|:------------------|:-----------------------|\n",
        "|  0 | rock          | paper             | I, the computer, win!  |\n",
        "|  1 | paper         | scissors          | I, the computer, win!  |\n",
        "|  2 | scissors      | scissors          | User and computer tie! |\n",
        "|  3 | paper         | rock              | You, the user, win!    |\n",
        "|  4 | scissors      | scissors          | User and computer tie! |\n",
        "|  5 | rock          | scissors          | You, the user, win!    |\n",
        "|  6 | paper         | scissors          | I, the computer, win!  |\n",
        "|  7 | scissors      | paper             | You, the user, win!    |\n",
        "|  8 | rock          | paper             | I, the computer, win!  |\n",
        "|  9 | paper         | scissors          | I, the computer, win!  |\n",
        "| 10 | rock          | paper             | I, the computer, win!  |"
      ],
      "metadata": {
        "id": "-imK9c69S9n_"
      }
    },
    {
      "cell_type": "code",
      "source": [
        "import random\n",
        "import pandas as pd\n",
        "\n",
        "#initialize rounds played, user choice, computer choice and results lists\n",
        "rounds_played = 0\n",
        "user_choice = []\n",
        "computer_choice = []\n",
        "results = []\n",
        "\n",
        "while rounds_played < 10 or input(\"Do you want to play another round? (yes/no): \").lower() == 'yes':\n",
        "    #prompt user for input\n",
        "    user = input(\"Enter your choice (rock, paper, scissors): \").lower()\n",
        "\n",
        "    #validate input provided by the user\n",
        "    if user not in (\"rock\", \"paper\", \"scissors\"):\n",
        "        print(\"Invalid choice. Please choose from rock, paper, or scissors.\")\n",
        "        continue\n",
        "\n",
        "    #computer chooses randomly\n",
        "    computer = random.choice([\"rock\", \"paper\", \"scissors\"])\n",
        "\n",
        "    #check for winner using conditions given\n",
        "    if user == computer:\n",
        "        result = \"User and computer tie!\"\n",
        "    elif (\n",
        "        (user == \"rock\" and computer == \"scissors\") or\n",
        "        (user == \"scissors\" and computer == \"paper\") or\n",
        "        (user == \"paper\" and computer == \"rock\")\n",
        "    ):\n",
        "        result = \"You, the user, win!\"\n",
        "    else:\n",
        "        result = \"I, the computer, win!\"\n",
        "\n",
        "    #print output for the current round\n",
        "    print(f\"User chose: {user}\")\n",
        "    print(f\"Computer chose: {computer}\")\n",
        "    print(result)\n",
        "    print()\n",
        "\n",
        "    #append the result to list\n",
        "    user_choice.append(user)\n",
        "    computer_choice.append(computer)\n",
        "    results.append(result)\n",
        "\n",
        "    #increment counter\n",
        "    rounds_played += 1\n",
        "\n",
        "#display output using pandas\n",
        "df = pd.DataFrame(zip(user_choice, computer_choice, results),\n",
        "                  columns = ['User choice', 'computer choice', 'results'])\n",
        "# < Tried displaying dataframe output in expected output, but I'm not sure how to\n",
        "#format it in markdown. So used the below source >\n",
        "#source: https://pandas.pydata.org/docs/reference/api/pandas.DataFrame.to_markdown.html\n",
        "print(df.to_markdown())"
      ],
      "metadata": {
        "id": "RLb23yC49lnb"
      },
      "execution_count": null,
      "outputs": []
    },
    {
      "cell_type": "markdown",
      "source": [
        "##**Question 7**"
      ],
      "metadata": {
        "id": "q_w8z0zctxLA"
      }
    },
    {
      "cell_type": "markdown",
      "source": [
        "####<u>High level algorithm</u>\n",
        "1. In this program, we will import random module to generate a computer guess.\n",
        "2. Prompt user for input. The value should be between 1 and 100. If user enters a value greater than 100 or less than 1, then print an error and prompt user to reenter the input.\n",
        "3. If the input is between 1 and 100, proceed to guess the number. First initialize the variable iteration which will be used to track number of iterations.\n",
        "4. Start another while loop and in each iteration we will use randint to generate a random computer guess between 1 and 100 and assign it to a variable 'computer_guess' and increment iterations counter for each iteration.\n",
        "5. If the computer_guess is equal to given number, we will terminate the inner loop.\n",
        "6. Print the output which includes number of iterations and break the while loop.\n",
        "\n",
        "---\n",
        "\n",
        "####<u>Instructions for running the code</u>\n",
        "1. Run the cell containing the code snippet.\n",
        "2. You will be prompted to enter a number between 1 and 100.\n",
        "3. Once input is provided, code will do the computations and will give you number of iterations it took to guess the number provided.\n",
        "\n",
        "---\n",
        "\n",
        "####<u>Expected output:</u>\n",
        "\n",
        "1. Enter a number between 1 and 100 to be guessed: 231<br>\n",
        "Please enter a number between 1 and 100.<br>\n",
        "Enter a number between 1 and 100 to be guessed: 88<br>\n",
        "You entered 88, and it took the program 6 iterations to guess.\n",
        "\n",
        "2. Enter a number between 1 and 100 to be guessed: 55<br>\n",
        "You entered 55, and it took the program 90 iterations to guess."
      ],
      "metadata": {
        "id": "2CKx6295lE0g"
      }
    },
    {
      "cell_type": "code",
      "source": [
        "import random\n",
        "\n",
        "#iterate for user input until a value between 1 and 100 is provided\n",
        "while True:\n",
        "  #prompt the user to enter a number to be guessed\n",
        "  num = int(input(\"Enter a number between 1 and 100 to be guessed: \"))\n",
        "\n",
        "  #validate user input\n",
        "  if not 1 <= num <= 100:\n",
        "      print(\"Please enter a number between 1 and 100.\")\n",
        "  else:\n",
        "      #initialize iterations count\n",
        "      iterations = 0\n",
        "\n",
        "      # Guessing loop\n",
        "      while True:\n",
        "          computer_guess = random.randint(1, 100)\n",
        "          iterations += 1\n",
        "\n",
        "          if computer_guess == num:\n",
        "            break\n",
        "\n",
        "      #print the result and exit the loop\n",
        "      print(f\"You entered {num}, and it took the program {iterations} iterations to guess.\")\n",
        "      break"
      ],
      "metadata": {
        "id": "x5ESNZ4UtzsZ"
      },
      "execution_count": null,
      "outputs": []
    }
  ]
}